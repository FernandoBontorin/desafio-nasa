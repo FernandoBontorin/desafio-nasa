{
 "cells": [
  {
   "cell_type": "code",
   "execution_count": 1,
   "metadata": {},
   "outputs": [
    {
     "data": {
      "text/plain": [
       "\u001b[32mimport \u001b[39m\u001b[36m$ivy.$                                  \u001b[39m"
      ]
     },
     "execution_count": 1,
     "metadata": {},
     "output_type": "execute_result"
    }
   ],
   "source": [
    "import $ivy.`org.apache.spark::spark-sql:2.4.5`"
   ]
  },
  {
   "cell_type": "code",
   "execution_count": 2,
   "metadata": {},
   "outputs": [
    {
     "name": "stderr",
     "output_type": "stream",
     "text": [
      "Using Spark's default log4j profile: org/apache/spark/log4j-defaults.properties\n"
     ]
    },
    {
     "data": {
      "text/plain": [
       "\u001b[32mimport \u001b[39m\u001b[36morg.apache.log4j.{Level, Logger}\n",
       "\u001b[39m\r\n",
       "\u001b[32mimport \u001b[39m\u001b[36morg.apache.spark.sql.SparkSession\n",
       "\n",
       "\u001b[39m\r\n",
       "\u001b[36mspark\u001b[39m: \u001b[32mSparkSession\u001b[39m = org.apache.spark.sql.SparkSession@7f314a04\r\n",
       "\u001b[32mimport \u001b[39m\u001b[36mspark.implicits._\n",
       "\u001b[39m\r\n",
       "\u001b[32mimport \u001b[39m\u001b[36morg.apache.spark.sql.functions._\u001b[39m"
      ]
     },
     "execution_count": 2,
     "metadata": {},
     "output_type": "execute_result"
    }
   ],
   "source": [
    "import org.apache.log4j.{Level, Logger}\n",
    "Logger.getLogger(\"org\").setLevel(Level.OFF)\n",
    "\n",
    "import org.apache.spark.sql.SparkSession\n",
    "\n",
    "val spark = SparkSession.builder().master(\"local[1]\").getOrCreate()\n",
    "\n",
    "import spark.implicits._\n",
    "import org.apache.spark.sql.functions._"
   ]
  },
  {
   "cell_type": "code",
   "execution_count": 3,
   "metadata": {},
   "outputs": [
    {
     "data": {
      "text/plain": [
       "\u001b[36mexemplo\u001b[39m: \u001b[32morg\u001b[39m.\u001b[32mapache\u001b[39m.\u001b[32mspark\u001b[39m.\u001b[32msql\u001b[39m.\u001b[32mDataset\u001b[39m[\u001b[32mString\u001b[39m] = [value: string]"
      ]
     },
     "execution_count": 3,
     "metadata": {},
     "output_type": "execute_result"
    }
   ],
   "source": [
    "val exemplo = spark.read.textFile(\"data/access_log_Aug95\").union(spark.read.textFile(\"data/access_log_Aug95\"))"
   ]
  },
  {
   "cell_type": "code",
   "execution_count": 4,
   "metadata": {},
   "outputs": [
    {
     "data": {
      "text/plain": [
       "\u001b[36msplitHttpLine\u001b[39m: \u001b[32morg\u001b[39m.\u001b[32mapache\u001b[39m.\u001b[32mspark\u001b[39m.\u001b[32msql\u001b[39m.\u001b[32mexpressions\u001b[39m.\u001b[32mUserDefinedFunction\u001b[39m = \u001b[33mUserDefinedFunction\u001b[39m(\n",
       "  <function1>,\n",
       "  \u001b[33mArrayType\u001b[39m(StringType, true),\n",
       "  \u001b[33mSome\u001b[39m(\u001b[33mList\u001b[39m(StringType))\n",
       ")\r\n",
       "\u001b[36misoFormat\u001b[39m: \u001b[32morg\u001b[39m.\u001b[32mapache\u001b[39m.\u001b[32mspark\u001b[39m.\u001b[32msql\u001b[39m.\u001b[32mexpressions\u001b[39m.\u001b[32mUserDefinedFunction\u001b[39m = \u001b[33mUserDefinedFunction\u001b[39m(\n",
       "  <function1>,\n",
       "  StringType,\n",
       "  \u001b[33mSome\u001b[39m(\u001b[33mList\u001b[39m(StringType))\n",
       ")"
      ]
     },
     "execution_count": 4,
     "metadata": {},
     "output_type": "execute_result"
    }
   ],
   "source": [
    "val splitHttpLine = udf((line: String) => {\n",
    "    def bytesToLong(s: String) = if(s==\"-\") \"0\" else s\n",
    "    def protocolFilter = line.replace(\" HTTP/1.0\", \"\")\n",
    "    val pattern = \"(.+) - - \\\\[(.+)\\\\] \\\"(.*)\\\" ([0-9]+) (-|[0-9]+)\".r\n",
    "    val pattern(host, date, path, code, bytes) = protocolFilter\n",
    "    Array(host, date, path, code, bytesToLong(bytes))\n",
    "})\n",
    "val isoFormat = udf((date: String) => {\n",
    "    import java.text.SimpleDateFormat\n",
    "    def dateFix = date.replace(\"Aug\", \"Ago\")\n",
    "    val dateParser = new SimpleDateFormat(\"dd/MMM/yyyy:HH:mm:ss Z\")\n",
    "    val iso = new SimpleDateFormat(\"yyyy-MM-dd\")\n",
    "    iso.format(dateParser.parse(dateFix))\n",
    "})"
   ]
  },
  {
   "cell_type": "code",
   "execution_count": 5,
   "metadata": {},
   "outputs": [
    {
     "data": {
      "text/plain": [
       "\u001b[36mreqSplitted\u001b[39m: \u001b[32morg\u001b[39m.\u001b[32mapache\u001b[39m.\u001b[32mspark\u001b[39m.\u001b[32msql\u001b[39m.\u001b[32mpackage\u001b[39m.\u001b[32mDataFrame\u001b[39m = [req: array<string>]"
      ]
     },
     "execution_count": 5,
     "metadata": {},
     "output_type": "execute_result"
    }
   ],
   "source": [
    "val reqSplitted = exemplo.select(splitHttpLine(col(\"value\")).as(\"req\"))"
   ]
  },
  {
   "cell_type": "code",
   "execution_count": 6,
   "metadata": {},
   "outputs": [
    {
     "data": {
      "text/plain": [
       "\u001b[36mreqStruct\u001b[39m: \u001b[32morg\u001b[39m.\u001b[32mapache\u001b[39m.\u001b[32mspark\u001b[39m.\u001b[32msql\u001b[39m.\u001b[32mpackage\u001b[39m.\u001b[32mDataFrame\u001b[39m = [host: string, date: string ... 3 more fields]"
      ]
     },
     "execution_count": 6,
     "metadata": {},
     "output_type": "execute_result"
    }
   ],
   "source": [
    "val reqStruct = reqSplitted.select(col(\"req\")(0).as(\"host\"), col(\"req\")(1).as(\"date\"), col(\"req\")(2).as(\"path\"), col(\"req\")(3).as(\"code\"), col(\"req\")(4).as(\"bytes\"))"
   ]
  },
  {
   "cell_type": "code",
   "execution_count": 7,
   "metadata": {},
   "outputs": [
    {
     "data": {
      "text/plain": [
       "\u001b[36muniqueHostsCount\u001b[39m: \u001b[32mInt\u001b[39m = \u001b[32m75060\u001b[39m"
      ]
     },
     "execution_count": 7,
     "metadata": {},
     "output_type": "execute_result"
    }
   ],
   "source": [
    "val uniqueHostsCount = reqStruct.groupBy(col(\"host\")).count.collect.map(row=>row.getAs[String](\"host\")).length"
   ]
  },
  {
   "cell_type": "code",
   "execution_count": 8,
   "metadata": {},
   "outputs": [
    {
     "data": {
      "text/plain": [
       "\u001b[36mcodes404Count\u001b[39m: \u001b[32mLong\u001b[39m = \u001b[32m20112L\u001b[39m"
      ]
     },
     "execution_count": 8,
     "metadata": {},
     "output_type": "execute_result"
    }
   ],
   "source": [
    "val codes404Count = reqStruct.where(col(\"code\")===404).count"
   ]
  },
  {
   "cell_type": "code",
   "execution_count": 9,
   "metadata": {},
   "outputs": [
    {
     "data": {
      "text/plain": [
       "\u001b[36mtop5Hosts404\u001b[39m: \u001b[32mArray\u001b[39m[\u001b[32mString\u001b[39m] = \u001b[33mArray\u001b[39m(\n",
       "  \u001b[32m\"dialip-217.den.mmc.com\"\u001b[39m,\n",
       "  \u001b[32m\"piweba3y.prodigy.com\"\u001b[39m,\n",
       "  \u001b[32m\"155.148.25.4\"\u001b[39m,\n",
       "  \u001b[32m\"maz3.maz.net\"\u001b[39m,\n",
       "  \u001b[32m\"gate.barr.com\"\u001b[39m\n",
       ")"
      ]
     },
     "execution_count": 9,
     "metadata": {},
     "output_type": "execute_result"
    }
   ],
   "source": [
    "val top5Hosts404 = reqStruct.where(col(\"code\")===404).groupBy(\"host\").count.sort(col(\"count\").desc).collect.take(5).map(row=>row.getAs[String](\"host\"))"
   ]
  },
  {
   "cell_type": "code",
   "execution_count": 10,
   "metadata": {},
   "outputs": [
    {
     "data": {
      "text/plain": [
       "\u001b[36mamount404PerDay\u001b[39m: \u001b[32mArray\u001b[39m[(\u001b[32mString\u001b[39m, \u001b[32mLong\u001b[39m)] = \u001b[33mArray\u001b[39m(\n",
       "  (\u001b[32m\"1995-08-08\"\u001b[39m, \u001b[32m792L\u001b[39m),\n",
       "  (\u001b[32m\"1995-08-31\"\u001b[39m, \u001b[32m1102L\u001b[39m),\n",
       "  (\u001b[32m\"1995-08-01\"\u001b[39m, \u001b[32m486L\u001b[39m),\n",
       "  (\u001b[32m\"1995-08-18\"\u001b[39m, \u001b[32m514L\u001b[39m),\n",
       "  (\u001b[32m\"1995-08-21\"\u001b[39m, \u001b[32m620L\u001b[39m),\n",
       "  (\u001b[32m\"1995-08-16\"\u001b[39m, \u001b[32m506L\u001b[39m),\n",
       "  (\u001b[32m\"1995-08-11\"\u001b[39m, \u001b[32m544L\u001b[39m),\n",
       "  (\u001b[32m\"1995-08-17\"\u001b[39m, \u001b[32m552L\u001b[39m),\n",
       "  (\u001b[32m\"1995-08-26\"\u001b[39m, \u001b[32m716L\u001b[39m),\n",
       "  (\u001b[32m\"1995-08-24\"\u001b[39m, \u001b[32m832L\u001b[39m),\n",
       "  (\u001b[32m\"1995-08-07\"\u001b[39m, \u001b[32m1048L\u001b[39m),\n",
       "  (\u001b[32m\"1995-08-23\"\u001b[39m, \u001b[32m718L\u001b[39m),\n",
       "  (\u001b[32m\"1995-08-22\"\u001b[39m, \u001b[32m532L\u001b[39m),\n",
       "  (\u001b[32m\"1995-08-25\"\u001b[39m, \u001b[32m838L\u001b[39m),\n",
       "  (\u001b[32m\"1995-08-09\"\u001b[39m, \u001b[32m568L\u001b[39m),\n",
       "  (\u001b[32m\"1995-08-04\"\u001b[39m, \u001b[32m698L\u001b[39m),\n",
       "  (\u001b[32m\"1995-08-30\"\u001b[39m, \u001b[32m1078L\u001b[39m),\n",
       "  (\u001b[32m\"1995-08-20\"\u001b[39m, \u001b[32m612L\u001b[39m),\n",
       "  (\u001b[32m\"1995-08-13\"\u001b[39m, \u001b[32m440L\u001b[39m),\n",
       "  (\u001b[32m\"1995-08-29\"\u001b[39m, \u001b[32m832L\u001b[39m),\n",
       "  (\u001b[32m\"1995-08-06\"\u001b[39m, \u001b[32m758L\u001b[39m),\n",
       "  (\u001b[32m\"1995-08-15\"\u001b[39m, \u001b[32m648L\u001b[39m),\n",
       "  (\u001b[32m\"1995-08-03\"\u001b[39m, \u001b[32m576L\u001b[39m),\n",
       "  (\u001b[32m\"1995-08-10\"\u001b[39m, \u001b[32m624L\u001b[39m),\n",
       "  (\u001b[32m\"1995-08-14\"\u001b[39m, \u001b[32m594L\u001b[39m),\n",
       "  (\u001b[32m\"1995-08-19\"\u001b[39m, \u001b[32m426L\u001b[39m),\n",
       "  (\u001b[32m\"1995-09-01\"\u001b[39m, \u001b[32m52L\u001b[39m),\n",
       "  (\u001b[32m\"1995-08-05\"\u001b[39m, \u001b[32m474L\u001b[39m),\n",
       "  (\u001b[32m\"1995-08-27\"\u001b[39m, \u001b[32m768L\u001b[39m),\n",
       "  (\u001b[32m\"1995-08-28\"\u001b[39m, \u001b[32m812L\u001b[39m),\n",
       "  (\u001b[32m\"1995-08-12\"\u001b[39m, \u001b[32m352L\u001b[39m)\n",
       ")"
      ]
     },
     "execution_count": 10,
     "metadata": {},
     "output_type": "execute_result"
    }
   ],
   "source": [
    "val amount404PerDay = reqStruct.where(col(\"code\")===404).select(isoFormat(col(\"date\")).as(\"dateIso\")).groupBy(\"dateIso\").count.collect.map(row=>(row.getAs[String](\"dateIso\"), row.getAs[Long](\"count\")))"
   ]
  },
  {
   "cell_type": "code",
   "execution_count": 11,
   "metadata": {},
   "outputs": [
    {
     "data": {
      "text/plain": [
       "\u001b[36mtotalBytesReturned\u001b[39m: \u001b[32mLong\u001b[39m = \u001b[32m53656682848L\u001b[39m"
      ]
     },
     "execution_count": 11,
     "metadata": {},
     "output_type": "execute_result"
    }
   ],
   "source": [
    "val totalBytesReturned = reqStruct.select(sum(\"bytes\").as(\"bytes\")).collect.head.getAs[Double](\"bytes\").toLong"
   ]
  },
  {
   "cell_type": "code",
   "execution_count": 12,
   "metadata": {},
   "outputs": [
    {
     "name": "stdout",
     "output_type": "stream",
     "text": [
      "Número de hosts únicos. 75060\n",
      "O total de erros 404. 20112\n",
      "Os 5 URLs que mais causaram erro 404. dialip-217.den.mmc.com,piweba3y.prodigy.com,155.148.25.4,maz3.maz.net,gate.barr.com\n",
      "Quantidade de erros 404 por dia. (1995-08-08,792),(1995-08-31,1102),(1995-08-01,486),(1995-08-18,514),(1995-08-21,620),(1995-08-16,506),(1995-08-11,544),(1995-08-17,552),(1995-08-26,716),(1995-08-24,832),(1995-08-07,1048),(1995-08-23,718),(1995-08-22,532),(1995-08-25,838),(1995-08-09,568),(1995-08-04,698),(1995-08-30,1078),(1995-08-20,612),(1995-08-13,440),(1995-08-29,832),(1995-08-06,758),(1995-08-15,648),(1995-08-03,576),(1995-08-10,624),(1995-08-14,594),(1995-08-19,426),(1995-09-01,52),(1995-08-05,474),(1995-08-27,768),(1995-08-28,812),(1995-08-12,352)\n",
      "O total de bytes retornados. 53656682848\n"
     ]
    }
   ],
   "source": [
    "println(s\"Número de hosts únicos. $uniqueHostsCount\")\n",
    "println(s\"O total de erros 404. $codes404Count\")\n",
    "println(s\"Os 5 URLs que mais causaram erro 404. ${top5Hosts404.mkString(\",\")}\")\n",
    "println(s\"Quantidade de erros 404 por dia. ${amount404PerDay.mkString(\",\")}\")\n",
    "println(s\"O total de bytes retornados. $totalBytesReturned\")"
   ]
  },
  {
   "cell_type": "code",
   "execution_count": null,
   "metadata": {},
   "outputs": [],
   "source": []
  }
 ],
 "metadata": {
  "kernelspec": {
   "display_name": "Scala",
   "language": "scala",
   "name": "scala"
  },
  "language_info": {
   "codemirror_mode": "text/x-scala",
   "file_extension": ".scala",
   "mimetype": "text/x-scala",
   "name": "scala",
   "nbconvert_exporter": "script",
   "version": "2.11.12"
  }
 },
 "nbformat": 4,
 "nbformat_minor": 4
}
